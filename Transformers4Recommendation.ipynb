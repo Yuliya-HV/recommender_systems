{
  "nbformat": 4,
  "nbformat_minor": 0,
  "metadata": {
    "colab": {
      "name": "Transformers4Recommendation.ipynb",
      "provenance": []
    },
    "kernelspec": {
      "name": "python3",
      "display_name": "Python 3"
    },
    "language_info": {
      "name": "python"
    }
  },
  "cells": [
    {
      "cell_type": "markdown",
      "source": [
        "Recommend to a user the exact item they would prefer is a win. However, user situations and tastes change frequently with flooding offers from everywhere.\n",
        "\n",
        "Session-based sequential recommendation systems help to capture short-term, contextual user preferences at a given point in time and predict more precisely the next iterations.\n",
        "\n",
        "NVIDIA-Merlin introduced #Transformers4Rec library to tackle session-based recommendation tasks by leveraging SOTA NLP Hugging Face #transformers architecture.\n",
        "\n",
        "Simply use a short sequence of past user interactions within a session to recommend dynamically the next item they most likely would be interested in at the exact moment!\n",
        "PyTorch and Tensorflow implementations are kindly available :)"
      ],
      "metadata": {
        "id": "Fi78E5a5GQNa"
      }
    },
    {
      "cell_type": "code",
      "source": [
        "\"\"\"\n",
        "All: pip install transformers4rec[all]\n",
        "PyTorch: pip install transformers4rec[pytorch,nvtabular]\n",
        "Tensorflow: pip install transformers4rec[tensorflow,nvtabular]\n",
        "\n",
        "\"\"\""
      ],
      "metadata": {
        "id": "_bPBp2e19UoS"
      },
      "execution_count": null,
      "outputs": []
    },
    {
      "cell_type": "markdown",
      "source": [
        "## PyTorch implementation"
      ],
      "metadata": {
        "id": "Sr38cw-SH5G_"
      }
    },
    {
      "cell_type": "code",
      "source": [
        "!pip install transformers4rec[pytorch,nvtabular]"
      ],
      "metadata": {
        "id": "K8nZEH87GZ6h"
      },
      "execution_count": null,
      "outputs": []
    },
    {
      "cell_type": "code",
      "source": [
        "from transformers4rec import torch as tr"
      ],
      "metadata": {
        "id": "smE39e6w60Rr"
      },
      "execution_count": 12,
      "outputs": []
    },
    {
      "cell_type": "code",
      "source": [
        "schema: tr.Schema = tr.data.tabular_sequence_testing_data.schema\n",
        "# Or read schema from disk: tr.Schema().from_json(SCHEMA_PATH)\n",
        "max_sequence_length, d_model = 20, 64"
      ],
      "metadata": {
        "id": "gH2cnJqE81Rz"
      },
      "execution_count": 22,
      "outputs": []
    },
    {
      "cell_type": "code",
      "source": [
        "print(f\"Schema structure:\\n{schema}\")"
      ],
      "metadata": {
        "colab": {
          "base_uri": "https://localhost:8080/"
        },
        "id": "MZyk0Hc085ZA",
        "outputId": "2735275f-2d70-4536-e7d4-1ced0253ae2a"
      },
      "execution_count": 23,
      "outputs": [
        {
          "output_type": "stream",
          "name": "stdout",
          "text": [
            "Schema structure:\n",
            "[{'name': 'session_id', 'type': 'INT', 'int_domain': {'name': 'session_id', 'min': '1', 'max': '11562158'}, 'annotation': {'tag': ['groupby_col']}}, {'name': 'session_start', 'annotation': {'tag': ['first']}}, {'name': 'timestamp/age_days/list', 'value_count': {'min': '2', 'max': '185'}, 'type': 'INT', 'int_domain': {'name': 'timestamp/age_days/list', 'max': '181'}, 'annotation': {'tag': ['list']}}, {'name': 'timestamp/age_days/LogOp/Normalize/list', 'value_count': {'min': '2', 'max': '185'}, 'type': 'FLOAT', 'float_domain': {'name': 'timestamp/age_days/LogOp/Normalize/list', 'min': -2.917729139328003, 'max': 1.5231701135635376}, 'annotation': {'tag': ['continuous', 'list']}}, {'name': 'timestamp/hour/list', 'value_count': {'min': '2', 'max': '185'}, 'type': 'FLOAT', 'float_domain': {'name': 'timestamp/hour/list', 'min': 5.7866054703481495e-06, 'max': 1.605135440826416}, 'annotation': {'tag': ['continuous', 'time', 'list']}}, {'name': 'timestamp/weekday/list', 'value_count': {'min': '2', 'max': '185'}, 'type': 'FLOAT', 'float_domain': {'name': 'timestamp/weekday/list', 'min': 0.00013345430488698184, 'max': 1.568290114402771}, 'annotation': {'tag': ['continuous', 'time', 'list']}}, {'name': 'timestamp/day/list', 'value_count': {'min': '2', 'max': '185'}, 'type': 'FLOAT', 'float_domain': {'name': 'timestamp/day/list', 'min': 0.055881768465042114, 'max': 1.7342302799224854}, 'annotation': {'tag': ['continuous', 'time', 'list']}}, {'name': 'timestamp/month/list', 'value_count': {'min': '2', 'max': '185'}, 'type': 'FLOAT', 'float_domain': {'name': 'timestamp/month/list', 'min': 0.5930372476577759, 'max': 1.3344756364822388}, 'annotation': {'tag': ['continuous', 'time', 'list']}}, {'name': 'timestamp/year/list', 'value_count': {'min': '2', 'max': '185'}, 'type': 'FLOAT', 'float_domain': {'name': 'timestamp/year/list', 'min': 0.9999997019767761, 'max': 0.9999997019767761}, 'annotation': {'tag': ['continuous', 'time', 'list']}}, {'name': 'timestamp/hour/sin/list', 'value_count': {'min': '2', 'max': '185'}, 'type': 'FLOAT', 'float_domain': {'name': 'timestamp/hour/sin/list', 'min': 1.7767292774806265e-06, 'max': 0.40796470642089844}, 'annotation': {'tag': ['continuous', 'time', 'list']}}, {'name': 'timestamp/hour/cos/list', 'value_count': {'min': '2', 'max': '185'}, 'type': 'FLOAT', 'float_domain': {'name': 'timestamp/hour/cos/list', 'min': 0.9129977226257324, 'max': 1.0}, 'annotation': {'tag': ['continuous', 'time', 'list']}}, {'name': 'timestamp/weekday/sin/list', 'value_count': {'min': '2', 'max': '185'}, 'type': 'FLOAT', 'float_domain': {'name': 'timestamp/weekday/sin/list', 'min': 0.7421683073043823, 'max': 0.9995285272598267}, 'annotation': {'tag': ['time', 'list', 'continuous']}}, {'name': 'timestamp/weekday/cos/list', 'value_count': {'min': '2', 'max': '185'}, 'type': 'FLOAT', 'float_domain': {'name': 'timestamp/weekday/cos/list', 'min': -0.6702135801315308, 'max': 0.6233955025672913}, 'annotation': {'tag': ['time', 'list', 'continuous']}}, {'name': 'ts/list', 'value_count': {'min': '2', 'max': '185'}, 'type': 'INT', 'int_domain': {'name': 'ts/list', 'min': '1396321200', 'max': '1412045999'}, 'annotation': {'tag': ['time', 'list']}}, {'name': 'ts/last', 'type': 'INT', 'int_domain': {'name': 'ts/last', 'min': '1396321232', 'max': '1412045999'}, 'annotation': {'tag': ['time', 'last']}}, {'name': 'ts/first', 'type': 'INT', 'int_domain': {'name': 'ts/first', 'min': '1396321200', 'max': '1412045793'}, 'annotation': {'tag': ['time', 'first']}}, {'name': 'item_id/list', 'value_count': {'min': '2', 'max': '185'}, 'type': 'INT', 'int_domain': {'name': 'item_id/list', 'min': '1', 'max': '51996', 'is_categorical': True}, 'annotation': {'tag': ['item_id', 'list', 'categorical', 'item']}}, {'name': 'session_size', 'type': 'INT', 'int_domain': {'name': 'session_size', 'min': '2', 'max': '185'}, 'annotation': {'tag': ['count']}}, {'name': 'category/list', 'value_count': {'min': '2', 'max': '185'}, 'type': 'INT', 'int_domain': {'name': 'category/list', 'min': '1', 'max': '332', 'is_categorical': True}, 'annotation': {'tag': ['list', 'categorical', 'item']}}, {'name': 'day_idx', 'annotation': {}}, {'name': 'user_country', 'type': 'INT', 'int_domain': {'name': 'session_id', 'min': '1', 'max': '62', 'is_categorical': True}, 'annotation': {'tag': ['categorical']}}, {'name': 'user_age', 'type': 'FLOAT', 'float_domain': {'name': 'user_age', 'max': 0.4079650044441223}, 'annotation': {'tag': ['continuous']}}]\n"
          ]
        }
      ]
    },
    {
      "cell_type": "code",
      "source": [
        "import pandas as pd\n",
        "pd.DataFrame(schema).head(3)"
      ],
      "metadata": {
        "colab": {
          "base_uri": "https://localhost:8080/",
          "height": 393
        },
        "id": "VMTXh4aDHFYI",
        "outputId": "d54d7d9b-6f9f-47e3-9ffa-2bae12e2efe7"
      },
      "execution_count": 24,
      "outputs": [
        {
          "output_type": "execute_result",
          "data": {
            "text/plain": [
              "                      name  deprecated                               presence  \\\n",
              "0               session_id       False  {'min_fraction': 0.0, 'min_count': 0}   \n",
              "1            session_start       False  {'min_fraction': 0.0, 'min_count': 0}   \n",
              "2  timestamp/age_days/list       False  {'min_fraction': 0.0, 'min_count': 0}   \n",
              "\n",
              "        group_presence        shape             value_count  \\\n",
              "0  {'required': False}  {'dim': []}    {'min': 0, 'max': 0}   \n",
              "1  {'required': False}  {'dim': []}    {'min': 0, 'max': 0}   \n",
              "2  {'required': False}  {'dim': []}  {'min': 2, 'max': 185}   \n",
              "\n",
              "          value_counts  type domain  \\\n",
              "0  {'value_count': []}     2          \n",
              "1  {'value_count': []}     0          \n",
              "2  {'value_count': []}     2          \n",
              "\n",
              "                                          int_domain  ...  \\\n",
              "0  {'name': 'session_id', 'min': 1, 'max': 115621...  ...   \n",
              "1  {'name': '', 'min': 0, 'max': 0, 'is_categoric...  ...   \n",
              "2  {'name': 'timestamp/age_days/list', 'min': 0, ...  ...   \n",
              "\n",
              "                                  time_domain  \\\n",
              "0  {'string_format': '', 'integer_format': 0}   \n",
              "1  {'string_format': '', 'integer_format': 0}   \n",
              "2  {'string_format': '', 'integer_format': 0}   \n",
              "\n",
              "                           time_of_day_domain  distribution_constraints  \\\n",
              "0  {'string_format': '', 'integer_format': 0}  {'min_domain_mass': 0.0}   \n",
              "1  {'string_format': '', 'integer_format': 0}  {'min_domain_mass': 0.0}   \n",
              "2  {'string_format': '', 'integer_format': 0}  {'min_domain_mass': 0.0}   \n",
              "\n",
              "                                          annotation  \\\n",
              "0  {'tag': ['groupby_col'], 'comment': [], 'extra...   \n",
              "1  {'tag': ['first'], 'comment': [], 'extra_metad...   \n",
              "2  {'tag': ['list'], 'comment': [], 'extra_metada...   \n",
              "\n",
              "                                     skew_comparator  \\\n",
              "0  {'infinity_norm': {'threshold': 0.0}, 'jensen_...   \n",
              "1  {'infinity_norm': {'threshold': 0.0}, 'jensen_...   \n",
              "2  {'infinity_norm': {'threshold': 0.0}, 'jensen_...   \n",
              "\n",
              "                                    drift_comparator in_environment  \\\n",
              "0  {'infinity_norm': {'threshold': 0.0}, 'jensen_...             []   \n",
              "1  {'infinity_norm': {'threshold': 0.0}, 'jensen_...             []   \n",
              "2  {'infinity_norm': {'threshold': 0.0}, 'jensen_...             []   \n",
              "\n",
              "  not_in_environment lifecycle_stage    unique_constraints  \n",
              "0                 []               0  {'min': 0, 'max': 0}  \n",
              "1                 []               0  {'min': 0, 'max': 0}  \n",
              "2                 []               0  {'min': 0, 'max': 0}  \n",
              "\n",
              "[3 rows x 28 columns]"
            ],
            "text/html": [
              "\n",
              "  <div id=\"df-9521992d-e0fa-4f29-a170-b7a725dad449\">\n",
              "    <div class=\"colab-df-container\">\n",
              "      <div>\n",
              "<style scoped>\n",
              "    .dataframe tbody tr th:only-of-type {\n",
              "        vertical-align: middle;\n",
              "    }\n",
              "\n",
              "    .dataframe tbody tr th {\n",
              "        vertical-align: top;\n",
              "    }\n",
              "\n",
              "    .dataframe thead th {\n",
              "        text-align: right;\n",
              "    }\n",
              "</style>\n",
              "<table border=\"1\" class=\"dataframe\">\n",
              "  <thead>\n",
              "    <tr style=\"text-align: right;\">\n",
              "      <th></th>\n",
              "      <th>name</th>\n",
              "      <th>deprecated</th>\n",
              "      <th>presence</th>\n",
              "      <th>group_presence</th>\n",
              "      <th>shape</th>\n",
              "      <th>value_count</th>\n",
              "      <th>value_counts</th>\n",
              "      <th>type</th>\n",
              "      <th>domain</th>\n",
              "      <th>int_domain</th>\n",
              "      <th>...</th>\n",
              "      <th>time_domain</th>\n",
              "      <th>time_of_day_domain</th>\n",
              "      <th>distribution_constraints</th>\n",
              "      <th>annotation</th>\n",
              "      <th>skew_comparator</th>\n",
              "      <th>drift_comparator</th>\n",
              "      <th>in_environment</th>\n",
              "      <th>not_in_environment</th>\n",
              "      <th>lifecycle_stage</th>\n",
              "      <th>unique_constraints</th>\n",
              "    </tr>\n",
              "  </thead>\n",
              "  <tbody>\n",
              "    <tr>\n",
              "      <th>0</th>\n",
              "      <td>session_id</td>\n",
              "      <td>False</td>\n",
              "      <td>{'min_fraction': 0.0, 'min_count': 0}</td>\n",
              "      <td>{'required': False}</td>\n",
              "      <td>{'dim': []}</td>\n",
              "      <td>{'min': 0, 'max': 0}</td>\n",
              "      <td>{'value_count': []}</td>\n",
              "      <td>2</td>\n",
              "      <td></td>\n",
              "      <td>{'name': 'session_id', 'min': 1, 'max': 115621...</td>\n",
              "      <td>...</td>\n",
              "      <td>{'string_format': '', 'integer_format': 0}</td>\n",
              "      <td>{'string_format': '', 'integer_format': 0}</td>\n",
              "      <td>{'min_domain_mass': 0.0}</td>\n",
              "      <td>{'tag': ['groupby_col'], 'comment': [], 'extra...</td>\n",
              "      <td>{'infinity_norm': {'threshold': 0.0}, 'jensen_...</td>\n",
              "      <td>{'infinity_norm': {'threshold': 0.0}, 'jensen_...</td>\n",
              "      <td>[]</td>\n",
              "      <td>[]</td>\n",
              "      <td>0</td>\n",
              "      <td>{'min': 0, 'max': 0}</td>\n",
              "    </tr>\n",
              "    <tr>\n",
              "      <th>1</th>\n",
              "      <td>session_start</td>\n",
              "      <td>False</td>\n",
              "      <td>{'min_fraction': 0.0, 'min_count': 0}</td>\n",
              "      <td>{'required': False}</td>\n",
              "      <td>{'dim': []}</td>\n",
              "      <td>{'min': 0, 'max': 0}</td>\n",
              "      <td>{'value_count': []}</td>\n",
              "      <td>0</td>\n",
              "      <td></td>\n",
              "      <td>{'name': '', 'min': 0, 'max': 0, 'is_categoric...</td>\n",
              "      <td>...</td>\n",
              "      <td>{'string_format': '', 'integer_format': 0}</td>\n",
              "      <td>{'string_format': '', 'integer_format': 0}</td>\n",
              "      <td>{'min_domain_mass': 0.0}</td>\n",
              "      <td>{'tag': ['first'], 'comment': [], 'extra_metad...</td>\n",
              "      <td>{'infinity_norm': {'threshold': 0.0}, 'jensen_...</td>\n",
              "      <td>{'infinity_norm': {'threshold': 0.0}, 'jensen_...</td>\n",
              "      <td>[]</td>\n",
              "      <td>[]</td>\n",
              "      <td>0</td>\n",
              "      <td>{'min': 0, 'max': 0}</td>\n",
              "    </tr>\n",
              "    <tr>\n",
              "      <th>2</th>\n",
              "      <td>timestamp/age_days/list</td>\n",
              "      <td>False</td>\n",
              "      <td>{'min_fraction': 0.0, 'min_count': 0}</td>\n",
              "      <td>{'required': False}</td>\n",
              "      <td>{'dim': []}</td>\n",
              "      <td>{'min': 2, 'max': 185}</td>\n",
              "      <td>{'value_count': []}</td>\n",
              "      <td>2</td>\n",
              "      <td></td>\n",
              "      <td>{'name': 'timestamp/age_days/list', 'min': 0, ...</td>\n",
              "      <td>...</td>\n",
              "      <td>{'string_format': '', 'integer_format': 0}</td>\n",
              "      <td>{'string_format': '', 'integer_format': 0}</td>\n",
              "      <td>{'min_domain_mass': 0.0}</td>\n",
              "      <td>{'tag': ['list'], 'comment': [], 'extra_metada...</td>\n",
              "      <td>{'infinity_norm': {'threshold': 0.0}, 'jensen_...</td>\n",
              "      <td>{'infinity_norm': {'threshold': 0.0}, 'jensen_...</td>\n",
              "      <td>[]</td>\n",
              "      <td>[]</td>\n",
              "      <td>0</td>\n",
              "      <td>{'min': 0, 'max': 0}</td>\n",
              "    </tr>\n",
              "  </tbody>\n",
              "</table>\n",
              "<p>3 rows × 28 columns</p>\n",
              "</div>\n",
              "      <button class=\"colab-df-convert\" onclick=\"convertToInteractive('df-9521992d-e0fa-4f29-a170-b7a725dad449')\"\n",
              "              title=\"Convert this dataframe to an interactive table.\"\n",
              "              style=\"display:none;\">\n",
              "        \n",
              "  <svg xmlns=\"http://www.w3.org/2000/svg\" height=\"24px\"viewBox=\"0 0 24 24\"\n",
              "       width=\"24px\">\n",
              "    <path d=\"M0 0h24v24H0V0z\" fill=\"none\"/>\n",
              "    <path d=\"M18.56 5.44l.94 2.06.94-2.06 2.06-.94-2.06-.94-.94-2.06-.94 2.06-2.06.94zm-11 1L8.5 8.5l.94-2.06 2.06-.94-2.06-.94L8.5 2.5l-.94 2.06-2.06.94zm10 10l.94 2.06.94-2.06 2.06-.94-2.06-.94-.94-2.06-.94 2.06-2.06.94z\"/><path d=\"M17.41 7.96l-1.37-1.37c-.4-.4-.92-.59-1.43-.59-.52 0-1.04.2-1.43.59L10.3 9.45l-7.72 7.72c-.78.78-.78 2.05 0 2.83L4 21.41c.39.39.9.59 1.41.59.51 0 1.02-.2 1.41-.59l7.78-7.78 2.81-2.81c.8-.78.8-2.07 0-2.86zM5.41 20L4 18.59l7.72-7.72 1.47 1.35L5.41 20z\"/>\n",
              "  </svg>\n",
              "      </button>\n",
              "      \n",
              "  <style>\n",
              "    .colab-df-container {\n",
              "      display:flex;\n",
              "      flex-wrap:wrap;\n",
              "      gap: 12px;\n",
              "    }\n",
              "\n",
              "    .colab-df-convert {\n",
              "      background-color: #E8F0FE;\n",
              "      border: none;\n",
              "      border-radius: 50%;\n",
              "      cursor: pointer;\n",
              "      display: none;\n",
              "      fill: #1967D2;\n",
              "      height: 32px;\n",
              "      padding: 0 0 0 0;\n",
              "      width: 32px;\n",
              "    }\n",
              "\n",
              "    .colab-df-convert:hover {\n",
              "      background-color: #E2EBFA;\n",
              "      box-shadow: 0px 1px 2px rgba(60, 64, 67, 0.3), 0px 1px 3px 1px rgba(60, 64, 67, 0.15);\n",
              "      fill: #174EA6;\n",
              "    }\n",
              "\n",
              "    [theme=dark] .colab-df-convert {\n",
              "      background-color: #3B4455;\n",
              "      fill: #D2E3FC;\n",
              "    }\n",
              "\n",
              "    [theme=dark] .colab-df-convert:hover {\n",
              "      background-color: #434B5C;\n",
              "      box-shadow: 0px 1px 3px 1px rgba(0, 0, 0, 0.15);\n",
              "      filter: drop-shadow(0px 1px 2px rgba(0, 0, 0, 0.3));\n",
              "      fill: #FFFFFF;\n",
              "    }\n",
              "  </style>\n",
              "\n",
              "      <script>\n",
              "        const buttonEl =\n",
              "          document.querySelector('#df-9521992d-e0fa-4f29-a170-b7a725dad449 button.colab-df-convert');\n",
              "        buttonEl.style.display =\n",
              "          google.colab.kernel.accessAllowed ? 'block' : 'none';\n",
              "\n",
              "        async function convertToInteractive(key) {\n",
              "          const element = document.querySelector('#df-9521992d-e0fa-4f29-a170-b7a725dad449');\n",
              "          const dataTable =\n",
              "            await google.colab.kernel.invokeFunction('convertToInteractive',\n",
              "                                                     [key], {});\n",
              "          if (!dataTable) return;\n",
              "\n",
              "          const docLinkHtml = 'Like what you see? Visit the ' +\n",
              "            '<a target=\"_blank\" href=https://colab.research.google.com/notebooks/data_table.ipynb>data table notebook</a>'\n",
              "            + ' to learn more about interactive tables.';\n",
              "          element.innerHTML = '';\n",
              "          dataTable['output_type'] = 'display_data';\n",
              "          await google.colab.output.renderOutput(dataTable, element);\n",
              "          const docLink = document.createElement('div');\n",
              "          docLink.innerHTML = docLinkHtml;\n",
              "          element.appendChild(docLink);\n",
              "        }\n",
              "      </script>\n",
              "    </div>\n",
              "  </div>\n",
              "  "
            ]
          },
          "metadata": {},
          "execution_count": 24
        }
      ]
    },
    {
      "cell_type": "markdown",
      "source": [
        "Define input module to process tabular input-features"
      ],
      "metadata": {
        "id": "-1uUc4rfHu2x"
      }
    },
    {
      "cell_type": "code",
      "source": [
        "input_module = tr.TabularSequenceFeatures.from_schema(\n",
        "    schema,\n",
        "    max_sequence_length=max_sequence_length,\n",
        "    continuous_projection=d_model,\n",
        "    aggregation=\"concat\",\n",
        "    masking=\"causal\",\n",
        ")"
      ],
      "metadata": {
        "id": "8rH5UON-9C5I"
      },
      "execution_count": 25,
      "outputs": []
    },
    {
      "cell_type": "markdown",
      "source": [
        "Define one or multiple prediction-tasks"
      ],
      "metadata": {
        "id": "pTpIb5OcHxpX"
      }
    },
    {
      "cell_type": "code",
      "source": [
        "prediction_tasks = tr.NextItemPredictionTask()"
      ],
      "metadata": {
        "id": "tZ6RTbDgGm1Z"
      },
      "execution_count": 26,
      "outputs": []
    },
    {
      "cell_type": "markdown",
      "source": [
        "Define a transformer-config, like the XLNet architecture"
      ],
      "metadata": {
        "id": "PEPoqh0pH1c4"
      }
    },
    {
      "cell_type": "code",
      "execution_count": 27,
      "metadata": {
        "id": "jXbVUhLa6tYl"
      },
      "outputs": [],
      "source": [
        "transformer_config = tr.XLNetConfig.build(\n",
        "    d_model=d_model, n_head=4, n_layer=2, total_seq_length=max_sequence_length\n",
        ")\n",
        "model: tr.Model = transformer_config.to_torch_model(input_module, prediction_tasks)"
      ]
    },
    {
      "cell_type": "markdown",
      "source": [
        "## Tensorflow implementation"
      ],
      "metadata": {
        "id": "M5C39y6bH8YJ"
      }
    },
    {
      "cell_type": "code",
      "source": [
        "!pip install transformers4rec[tensorflow,nvtabular]"
      ],
      "metadata": {
        "id": "QApixw8-9Gwx"
      },
      "execution_count": null,
      "outputs": []
    },
    {
      "cell_type": "code",
      "source": [
        "!python -V"
      ],
      "metadata": {
        "colab": {
          "base_uri": "https://localhost:8080/"
        },
        "id": "aftBTs0PL7bf",
        "outputId": "0f992fde-215b-4ae4-974d-4451e60a8313"
      },
      "execution_count": 16,
      "outputs": [
        {
          "output_type": "stream",
          "name": "stdout",
          "text": [
            "Python 3.7.13\n"
          ]
        }
      ]
    },
    {
      "cell_type": "code",
      "source": [
        "from transformers4rec import tf as tr\n",
        "from merlin_standard_lib import Schema"
      ],
      "metadata": {
        "id": "O3qMzNCJILof"
      },
      "execution_count": 20,
      "outputs": []
    },
    {
      "cell_type": "code",
      "source": [
        "# schema = Schema().from_proto_text(\"<schema path>\")\n",
        "max_sequence_length, d_model = 20, 320"
      ],
      "metadata": {
        "id": "fkYZ8LOTMq4n"
      },
      "execution_count": 29,
      "outputs": []
    },
    {
      "cell_type": "markdown",
      "source": [
        "Define input module to process tabular input-features and to prepare masked inputs"
      ],
      "metadata": {
        "id": "jxooDIrwNxQZ"
      }
    },
    {
      "cell_type": "code",
      "source": [
        "input_module = tr.TabularSequenceFeatures.from_schema(\n",
        "    schema,\n",
        "    max_sequence_length=max_sequence_length,\n",
        "    continuous_projection=64,\n",
        "    aggregation=\"concat\",\n",
        "    d_output=d_model,\n",
        "    masking=\"clm\",\n",
        ")"
      ],
      "metadata": {
        "id": "tyPFQ7p2NnIf"
      },
      "execution_count": null,
      "outputs": []
    },
    {
      "cell_type": "markdown",
      "source": [
        "Define Next item prediction-task "
      ],
      "metadata": {
        "id": "w8PLi98KN1Nu"
      }
    },
    {
      "cell_type": "code",
      "source": [
        "prediction_task = tr.NextItemPredictionTask(hf_format=True,weight_tying=True)"
      ],
      "metadata": {
        "id": "qXtRGD-vNzdA"
      },
      "execution_count": null,
      "outputs": []
    },
    {
      "cell_type": "markdown",
      "source": [
        "Define the config of the XLNet architecture"
      ],
      "metadata": {
        "id": "ncMQrjPKN3lA"
      }
    },
    {
      "cell_type": "code",
      "source": [
        "transformer_config = tr.XLNetConfig.build(\n",
        "    d_model=d_model, n_head=8, n_layer=2,total_seq_length=max_sequence_length\n",
        ")"
      ],
      "metadata": {
        "id": "rp8pvQ_3N3_B"
      },
      "execution_count": null,
      "outputs": []
    },
    {
      "cell_type": "markdown",
      "source": [
        "Get the TF model "
      ],
      "metadata": {
        "id": "MuT1dGDxNrX2"
      }
    },
    {
      "cell_type": "code",
      "source": [
        "model = transformer_config.to_tf_model(input_module, prediction_task)"
      ],
      "metadata": {
        "id": "Bm0se2FINHLt"
      },
      "execution_count": null,
      "outputs": []
    }
  ]
}